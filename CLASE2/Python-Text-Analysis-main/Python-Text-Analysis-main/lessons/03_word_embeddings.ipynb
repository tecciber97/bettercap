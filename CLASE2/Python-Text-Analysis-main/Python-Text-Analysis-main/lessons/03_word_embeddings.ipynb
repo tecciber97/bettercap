{
 "cells": [
  {
   "cell_type": "markdown",
   "id": "2c0c2f15-1a64-4b2b-8ca1-270f05aa24b9",
   "metadata": {},
   "source": [
    "# Python Text Analysis: Word Embeddings\n",
    "\n",
    "<div class=\"alert alert-success\">  \n",
    "    \n",
    "### Learning Objectives \n",
    "\n",
    "* Recognize differences between bag-of-words representations and word embeddings.\n",
    "* Learn how word embeddings capture the meaning of words.\n",
    "* Calculate cosine similarity to capture linguistic concepts.\n",
    "* Understand that word embeddings models can be biased, and develop approaches to uncover these biases.\n",
    "</div>\n",
    "\n",
    "### Icons Used in This Notebook\n",
    "🔔 **Question**: A quick question to help you understand what's going on.<br>\n",
    "🥊 **Challenge**: Interactive excersise. We'll work through these in the workshop!<br>\n",
    "🎬 **Demo**: Showing off something more advanced – so you know what Python can be used for!<br> \n",
    "\n",
    "### Sections\n",
    "1. [Understand Word Embeddings](#section1)\n",
    "2. [Word Similarity](#section2)\n",
    "3. [Word Analogy](#section3)\n",
    "4. [Bias in Word Embeddings](#section4)"
   ]
  },
  {
   "cell_type": "code",
   "execution_count": 2,
   "id": "f0add7f3-98c6-4248-bed3-1d4c5e0f6d98",
   "metadata": {},
   "outputs": [],
   "source": [
    "import numpy as np\n",
    "import pandas as pd\n",
    "import matplotlib.pyplot as plt"
   ]
  },
  {
   "cell_type": "markdown",
   "id": "94fc6996",
   "metadata": {},
   "source": [
    "In Part 2, we have tried converting the text data to a numerical representation with a Bags of Words (BoW) representation and beyond that, Term Frequency-Inverse Document Frequeny (TF-IDF). These methods make heavy use of word frequency but not much of the relative position between words, but there's still rich semantic meanings and syntactic relations left to be captured beyond independent word frequency. \n",
    "\n",
    "We need a more powerful tool that has the potential to represent rich semantics (and more) of our text data. In the final part of this series, we will dive into word embeddings, a method widely combined with more advanced Natural Language Processing (NLP) tasks. We'll make extensive use of the `gensim` package, which hosts a range of word embedding models, including `word2vec` and `GloVe`, the two models we'll explore today.\n",
    "\n",
    "<a id='section1'></a>\n",
    "\n",
    "# Understand Word Emebeddings \n",
    "\n",
    "As famously put by British Linguist J.R. Firth:\n",
    "\n",
    "> **You shall know a word by the company it keeps.**\n",
    "\n",
    "This quote sums it all for the essence of word embeddings, which take the numerical representation of text further to the next step. \n",
    "\n",
    "Recall from Part 2 that a BoW representation is a **sparse** matrix. Its dimension is determined by vocabulary size and the number of documents. Importantly, a sparse matrix like BoW is interpretable; the cell values refer to the count of a word in a document. Oftentimes the cell values are zero: many words simply don't appear in a document at all. \n",
    "\n",
    "We can think of word embedding as a matrix likewise, but this time a **dense** matrix, where the cell values are real numbers. Word embeddings project a word's meaning onto a high-dimensional vector space—that's why it is also called **word vectors**. A word vector is essentially an array of real numbers, the length of which, as we'll see today, could be as low as 50, or as high as 300 (or even higher in Large Language Models). These real numbers do not make explicit sense to us, but this is not to say they are *meaningless*. It is now believed that a word's meaning can be captured by the vector representation, which we will return to shortly.  \n",
    "\n",
    "BOW:\n",
    "- Sparse matrix\n",
    "- Dimension: $D$ x $V$, where rows are **D**ocuments and columns are words in the **V**ocabulary.\n",
    "- Interpretable: e.g., \"bank\" and \"banker\" may appear in a financial document, but probably not \"bane.\"\n",
    "  \n",
    "<img src='../images/bow-illustration-2.png' alt=\"BoW\" width=\"500\">\n",
    "\n",
    "Word embeddings:\n",
    "- Dense matrix\n",
    "- Dimension: $V$ x $D$, where rows are **V**ocabulary and columns are vectors with dimension **D**.\n",
    "- Not immediately interpretable\n",
    "\n",
    "<img src='../images/bow-illustration-3.png' alt=\"BoW\" width=\"500\">\n",
    "\n",
    "Today, we are going to explore two widely used word embedding models, `word2vec` and `GloVe`. We will use the package `gensim` to access both models, so let's install gensim first.\n",
    "\n",
    "## Install `gensim`"
   ]
  },
  {
   "cell_type": "code",
   "execution_count": 3,
   "id": "bfb1d3b7-bf13-4a9e-ba89-aed7eb0603d2",
   "metadata": {
    "scrolled": true
   },
   "outputs": [],
   "source": [
    "# Uncomment to install gensim\n",
    "# !pip install gensim"
   ]
  },
  {
   "cell_type": "markdown",
   "id": "1756207c-98a2-4310-a153-55f07b2c280d",
   "metadata": {},
   "source": [
    "The word embedding models hosted in `gensim` can be retrieved in two ways. We can download them using the `gensim.downloader` API. Alternatively, these models can be downloaded to your local machine ahead of time, and then we use `KeyedVectors` to load them in. \n",
    "\n",
    "For the two models we will be working with today, we recommend downloading `word2vec` to your computer first. You can retrieve it via [this link](https://drive.google.com/file/d/0B7XkCwpI5KDYNlNUTTlSS21pQmM/edit?resourcekey=0-wjGZdNAUop6WykTtMip30g). For `GloVe`, a smaller model, we can use the gensim API directly when we reach that section. "
   ]
  },
  {
   "cell_type": "code",
   "execution_count": 4,
   "id": "390f01bd-e596-4d1a-89bf-147b3bdd3595",
   "metadata": {},
   "outputs": [],
   "source": [
    "import gensim\n",
    "import gensim.downloader as api\n",
    "from gensim.models import KeyedVectors"
   ]
  },
  {
   "cell_type": "markdown",
   "id": "33b2ac31-37a4-463d-8f49-bfd93c42904c",
   "metadata": {},
   "source": [
    "## `word2vec`\n",
    "\n",
    "The idea of word vectors, i.e, projecting a word's meaning onto a vector space, has been around for a long time. The `word2vec` model, proposed by [Mikolov et al.](https://arxiv.org/abs/1301.3781) in 2013, introduces an efficient model of word embeddings, since then it has stimulated a new wave of research on this topic. \n",
    "\n",
    "The key question asked in this paper is: how do we go about learning a good vector representation from the data?\n",
    "\n",
    "Mikolov et al. proposed two approaches: the **continuous bag-of-words (CBOW)** and the **skip-gram (SG)**. They are similar in that we use the vector representation of a token to try and predict what the nearby tokens are with a shallow neural network.   \n",
    "\n",
    "Take the following sentence from Merriam-Webster for example. If our target token is $w_t$, \"banks,\" the context tokens would be the preceding tokens $w_{t-2}, w_{t-1}$ and the following ones $w_{t+1}, w_{t+2}$. This example corresponds to a **window size** of 2: 2 words on either side of the target word. Similarly when we move onto the next tagret token, the context window moves as well.\n",
    "\n",
    "<img src='../images/target_word.png' alt=\"Trget word\" width=\"500\">\n",
    "\n",
    "In the continuous bag-of-words model, our goal is to predict the target token, given the context tokens. In the skip-gram model, the goal is to predict the context tokens from the target token. This is the reverse of the continuous bag-of-words and is a harder task, since we have to predict more from less information.\n",
    "\n",
    "<img src='../images/word2vec-model.png' alt=\"word2vec\" width=\"550\">\n",
    "\n",
    "**CBOW** (Left):\n",
    "- **Input**: context tokens\n",
    "- **Inner dimension**: embedding layer\n",
    "- **Output**: the target token\n",
    "\n",
    "**Skip-gram** (Right):\n",
    "- **Input**: the target token\n",
    "- **Inner dimension**: embedding layer\n",
    "- **Output**: context tokens\n",
    "\n",
    "The above figure illustrates the direction of prediction. It also serves as a schematic representation of a neural network, i.e., the mechanism underlying the training of `word2vec`. The input and output are known to us, represented by **one-hot encodings** in Mikolov et al. The **hidden layer**, the inner dimension between the input and the output, is the vector representation that the model is trying to learn. \n",
    "\n",
    "Here, we provide a brief explanation of where embedding come from, but we won't go into the specifics of training a neural network. The `word2vec` model we will be interacting with today is **pretrained**, meaning that the embeddings have already been trained on a large corpus (or a number of corpora). Pretrained `word2vec` and `GloVe`, as well as other models, are available through `gensim`. \n",
    "\n",
    "Let's take a look at the list of models that `gensim` provides:"
   ]
  },
  {
   "cell_type": "code",
   "execution_count": 5,
   "id": "a320e320-8a4e-4cf9-8d14-378442fe5845",
   "metadata": {},
   "outputs": [
    {
     "name": "stdout",
     "output_type": "stream",
     "text": [
      "fasttext-wiki-news-subwords-300\n",
      "conceptnet-numberbatch-17-06-300\n",
      "word2vec-ruscorpora-300\n",
      "word2vec-google-news-300\n",
      "glove-wiki-gigaword-50\n",
      "glove-wiki-gigaword-100\n",
      "glove-wiki-gigaword-200\n",
      "glove-wiki-gigaword-300\n",
      "glove-twitter-25\n",
      "glove-twitter-50\n",
      "glove-twitter-100\n",
      "glove-twitter-200\n",
      "__testing_word2vec-matrix-synopsis\n"
     ]
    }
   ],
   "source": [
    "# Get word embedding models\n",
    "gensim_models = list(api.info()['models'].keys())\n",
    "\n",
    "for model in gensim_models:\n",
    "    print(model)"
   ]
  },
  {
   "cell_type": "markdown",
   "id": "c508421b-dd32-4173-8716-b47f89cd1a51",
   "metadata": {},
   "source": [
    "These models are named following the **model-corpora-dimension** fashion. The one called `word2vec-google-news-300` is what we are looking for! This is a `word2vec` model that is trained on Google News; the dimension of word embedding is 300. \n",
    "\n",
    "As mentioned previously, we can retrieve this model in two ways:\n",
    "- Download it via `api.load()`\n",
    "- Download the model as a zip file and then load it in with `KeyedVectors.load()`\n",
    "\n",
    "The pretrained word2vec is archived by Google. You can download it via [this Google Drive link](https://drive.google.com/file/d/0B7XkCwpI5KDYNlNUTTlSS21pQmM/edit?resourcekey=0-wjGZdNAUop6WykTtMip30g). "
   ]
  },
  {
   "cell_type": "code",
   "execution_count": 6,
   "id": "8b6a28b0-475c-401a-a744-2d67a0c51d61",
   "metadata": {
    "scrolled": true
   },
   "outputs": [],
   "source": [
    "# Run the following line if your local machine has plenty of memory\n",
    "# wv = api.load(\"word2vec-google-news-300\")"
   ]
  },
  {
   "cell_type": "markdown",
   "id": "d40b0380-54bf-47ba-aded-55e7b52c19d3",
   "metadata": {},
   "source": [
    "The argument `binary` asks whether the model is in the binary format. If you place the downloaded model in the `data` folder, the following file path should work."
   ]
  },
  {
   "cell_type": "code",
   "execution_count": 7,
   "id": "dced462a-e85a-4a0e-8698-66d49873fa4a",
   "metadata": {},
   "outputs": [],
   "source": [
    "# Alternatively, download the model to your machine and load it in \n",
    "wv = KeyedVectors.load_word2vec_format('../data/GoogleNews-vectors-negative300.bin', binary=True)"
   ]
  },
  {
   "cell_type": "markdown",
   "id": "925db1ea-6295-47b7-b6f2-45941c993e5c",
   "metadata": {},
   "source": [
    "Ta-da! Our pretrained `word2vec` is ready to use!\n",
    "\n",
    "Accessing the actual word vectors can be done by treating the word vector model as a dictionary. \n",
    "\n",
    "For example, let's take a look at the word vector for \"banana.\""
   ]
  },
  {
   "cell_type": "code",
   "execution_count": 8,
   "id": "a93fb02c-62ba-42f1-b6cb-b492bd21516e",
   "metadata": {
    "scrolled": true
   },
   "outputs": [
    {
     "data": {
      "text/plain": [
       "array([-8.54492188e-02,  4.71191406e-02, -6.93359375e-02,  3.02734375e-01,\n",
       "       -1.87500000e-01, -3.19824219e-02,  2.95410156e-02, -2.05078125e-01,\n",
       "       -9.03320312e-02,  2.98828125e-01,  2.10937500e-01, -6.88476562e-02,\n",
       "        4.76074219e-02,  5.83496094e-02, -2.75390625e-01,  2.42187500e-01,\n",
       "       -3.22265625e-01,  4.73632812e-02, -1.44531250e-01,  9.37500000e-02,\n",
       "        6.74438477e-03,  2.17773438e-01,  2.31445312e-01,  1.87500000e-01,\n",
       "        8.49609375e-02, -5.39550781e-02, -2.65625000e-01,  2.23388672e-02,\n",
       "        2.24609375e-01,  4.12109375e-01, -2.30712891e-02, -1.67968750e-01,\n",
       "        1.01928711e-02,  2.10937500e-01,  1.14135742e-02,  2.50000000e-01,\n",
       "        8.64257812e-02, -2.16796875e-01,  8.93554688e-02,  1.50390625e-01,\n",
       "       -2.03125000e-01, -2.30468750e-01,  1.42578125e-01,  1.34765625e-01,\n",
       "       -1.13769531e-01, -1.80664062e-01,  3.58886719e-02, -1.69921875e-01,\n",
       "        1.55273438e-01,  2.39257812e-01, -2.30468750e-01, -9.96093750e-02,\n",
       "        1.82617188e-01, -1.81640625e-01, -1.46484375e-01, -7.03125000e-02,\n",
       "        9.37500000e-02, -2.67578125e-01,  2.17285156e-02, -1.45507812e-01,\n",
       "       -2.38037109e-02,  1.53320312e-01, -9.81445312e-02, -1.69677734e-02,\n",
       "        5.00488281e-02, -3.08593750e-01, -3.00781250e-01, -3.20312500e-01,\n",
       "        1.18652344e-01, -1.28906250e-01,  1.79687500e-01,  8.74023438e-02,\n",
       "       -1.48925781e-02, -9.71679688e-02, -5.62500000e-01,  2.50244141e-02,\n",
       "       -2.08984375e-01, -2.33398438e-01, -9.86328125e-02, -2.22167969e-02,\n",
       "       -1.13281250e-01,  1.17675781e-01, -1.56250000e-01, -1.03515625e-01,\n",
       "        6.22558594e-02, -2.04101562e-01,  2.75878906e-02,  2.57812500e-01,\n",
       "       -1.89453125e-01, -6.29882812e-02, -2.94921875e-01,  1.64062500e-01,\n",
       "        2.21252441e-04, -1.40625000e-01, -2.45361328e-02, -6.73828125e-02,\n",
       "       -4.76074219e-02,  2.57568359e-02,  2.92968750e-01, -4.41894531e-02,\n",
       "       -2.26562500e-01, -3.07617188e-02,  3.66210938e-02,  1.00585938e-01,\n",
       "       -8.10546875e-02,  7.76367188e-02,  1.94335938e-01, -1.09863281e-01,\n",
       "       -2.59765625e-01, -1.41601562e-01, -2.67578125e-01, -2.39257812e-01,\n",
       "       -2.34375000e-01,  6.59179688e-02, -2.96875000e-01, -1.22680664e-02,\n",
       "        1.44531250e-01, -2.38281250e-01,  2.38037109e-02,  2.81982422e-02,\n",
       "       -5.12695312e-02, -1.06445312e-01, -1.22070312e-01, -2.33398438e-01,\n",
       "       -1.75781250e-01,  1.24023438e-01,  1.94091797e-02, -1.08886719e-01,\n",
       "        1.19628906e-01,  3.73046875e-01, -2.48046875e-01, -1.38671875e-01,\n",
       "       -1.33789062e-01, -2.65625000e-01, -2.71484375e-01,  2.67578125e-01,\n",
       "       -5.22460938e-02,  4.68750000e-02,  1.42578125e-01, -2.57812500e-01,\n",
       "       -1.46484375e-01, -4.02343750e-01, -7.95898438e-02,  3.39355469e-02,\n",
       "        1.06445312e-01,  8.64257812e-02,  1.00585938e-01,  6.39648438e-02,\n",
       "       -1.69921875e-01,  2.67578125e-01,  4.85839844e-02, -1.90429688e-01,\n",
       "       -3.22265625e-01,  1.03027344e-01,  4.19921875e-02, -6.37817383e-03,\n",
       "       -1.96289062e-01, -1.04003906e-01,  1.04492188e-01, -1.68945312e-01,\n",
       "       -3.14453125e-01,  2.16674805e-03,  1.27929688e-01,  9.17968750e-02,\n",
       "       -1.25976562e-01, -2.12097168e-03,  1.94335938e-01, -1.42578125e-01,\n",
       "       -1.56250000e-01, -5.44433594e-02, -9.13085938e-02,  1.52343750e-01,\n",
       "       -2.55126953e-02, -2.38281250e-01, -4.14062500e-01, -1.99218750e-01,\n",
       "        1.73828125e-01, -8.25195312e-02,  6.88476562e-02,  2.69531250e-01,\n",
       "       -9.17968750e-02, -8.10546875e-02, -2.45117188e-01,  2.53906250e-01,\n",
       "       -1.96838379e-03,  5.05371094e-02,  4.66308594e-02,  2.63671875e-02,\n",
       "        2.23632812e-01, -1.89453125e-01,  1.04003906e-01, -2.80761719e-02,\n",
       "        4.00390625e-02, -2.07031250e-01,  4.06250000e-01,  4.49218750e-01,\n",
       "       -3.32031250e-02, -2.24609375e-01, -1.28906250e-01, -2.86865234e-02,\n",
       "        2.08984375e-01, -2.18750000e-01,  6.07910156e-02,  1.25000000e-01,\n",
       "        4.37011719e-02,  7.17773438e-02,  3.14941406e-02,  1.23535156e-01,\n",
       "       -8.23974609e-03, -4.32128906e-02, -2.31445312e-01,  7.37304688e-02,\n",
       "       -1.51367188e-01,  1.52343750e-01,  2.08007812e-01, -1.63085938e-01,\n",
       "       -2.20703125e-01, -2.96875000e-01,  1.46484375e-01,  3.16406250e-01,\n",
       "        9.47265625e-02, -7.03125000e-02, -2.06054688e-01, -3.06396484e-02,\n",
       "       -1.22070312e-01, -2.47070312e-01,  9.13085938e-02,  1.22558594e-01,\n",
       "        4.10156250e-01,  1.22558594e-01,  3.80859375e-02, -8.64257812e-02,\n",
       "       -4.27246094e-02,  4.12597656e-02, -1.30859375e-01, -1.11328125e-01,\n",
       "       -1.15966797e-02, -1.60156250e-01,  2.63671875e-01,  5.37109375e-02,\n",
       "        3.11279297e-02, -2.53906250e-01,  6.12792969e-02,  5.02929688e-02,\n",
       "        3.68652344e-02, -2.83203125e-01, -3.63281250e-01,  2.78320312e-02,\n",
       "        1.28906250e-01, -1.85546875e-01, -1.03515625e-01, -1.29882812e-01,\n",
       "        3.69140625e-01, -1.31835938e-01, -4.22363281e-02, -3.98437500e-01,\n",
       "        1.08642578e-02, -1.95312500e-01, -1.49414062e-01, -4.95605469e-02,\n",
       "       -7.91015625e-02,  2.50000000e-01, -2.05078125e-01,  2.65625000e-01,\n",
       "       -1.19628906e-02, -1.37695312e-01, -1.73828125e-01,  3.35937500e-01,\n",
       "       -1.28906250e-01, -2.55859375e-01, -1.89453125e-01,  1.61132812e-01,\n",
       "        2.23632812e-01, -1.08886719e-01, -8.05664062e-03,  1.82617188e-01,\n",
       "       -1.90429688e-01, -1.69677734e-02, -6.83593750e-02,  3.04687500e-01,\n",
       "        1.79687500e-01,  1.65039062e-01,  5.85937500e-02, -1.02050781e-01,\n",
       "        6.68945312e-02, -7.61718750e-02, -3.33984375e-01,  6.34765625e-02,\n",
       "       -9.76562500e-02,  1.71875000e-01, -1.77734375e-01, -8.25195312e-02,\n",
       "        3.85742188e-02, -2.94921875e-01,  5.52368164e-03,  5.44433594e-02,\n",
       "       -9.47265625e-02,  1.26953125e-01,  1.17187500e-01,  1.77734375e-01],\n",
       "      dtype=float32)"
      ]
     },
     "execution_count": 8,
     "metadata": {},
     "output_type": "execute_result"
    }
   ],
   "source": [
    "wv['banana']"
   ]
  },
  {
   "cell_type": "markdown",
   "id": "4bf15e57-7c49-4238-849b-90cc30813d2e",
   "metadata": {},
   "source": [
    "Let's inspect the shape of the \"banana\" vector. "
   ]
  },
  {
   "cell_type": "code",
   "execution_count": 9,
   "id": "6d9c61de-8898-418b-a469-b25baa1e29b1",
   "metadata": {},
   "outputs": [
    {
     "data": {
      "text/plain": [
       "300"
      ]
     },
     "execution_count": 9,
     "metadata": {},
     "output_type": "execute_result"
    }
   ],
   "source": [
    "wv['banana'].size"
   ]
  },
  {
   "cell_type": "markdown",
   "id": "5d1de233-cef4-48c8-9f5d-57107a16d02d",
   "metadata": {},
   "source": [
    "As promised, it is an 1-D array that holds 300 values. \n",
    "\n",
    "These values appear to be random floats and don't really make sense to us at the moment, but they are numerical representations on which we can perform computations. \n",
    "\n",
    "Let's take a look at a few examples!"
   ]
  },
  {
   "cell_type": "markdown",
   "id": "64f917cd-f319-425d-8452-baa8c0598b82",
   "metadata": {},
   "source": [
    "<a id='section2'></a>\n",
    "\n",
    "# Word Similarity\n",
    "\n",
    "The first question we can ask is: what words are similar to \"bank\"? In vector space, we expect similar words to have vectors that are close to each other.\n",
    "\n",
    "There are many metrics for measuring vector similarity; one of the most widely used is [**cosine similarity**](https://en.wikipedia.org/wiki/Cosine_similarity). Orthogonal vectors have a cosine similarity of 0, and parallel vectors have a cosine similarity of 1.\n",
    "\n",
    "`gensim` provides a function called `most_similar` that lets us find the words most similar to a queried word. The output is a tuple containing candidate words and their cosine similarities to the queried word.\n",
    "\n",
    "Let's give it a shot!"
   ]
  },
  {
   "cell_type": "code",
   "execution_count": 10,
   "id": "b8f6340f-cb0d-49f1-af0e-c584400f278a",
   "metadata": {},
   "outputs": [
    {
     "data": {
      "text/plain": [
       "[('banks', 0.7440759539604187),\n",
       " ('banking', 0.6901614665985107),\n",
       " ('Bank', 0.6698698401451111),\n",
       " ('lender', 0.634228527545929),\n",
       " ('banker', 0.6092953681945801),\n",
       " ('depositors', 0.6031531691551208),\n",
       " ('mortgage_lender', 0.5797975659370422),\n",
       " ('depositor', 0.5716428160667419),\n",
       " ('BofA', 0.5714625120162964),\n",
       " ('Citibank', 0.5589520931243896)]"
      ]
     },
     "execution_count": 10,
     "metadata": {},
     "output_type": "execute_result"
    }
   ],
   "source": [
    "wv.most_similar(['bank'])"
   ]
  },
  {
   "cell_type": "markdown",
   "id": "133dd9f2-115e-4b75-9379-4f465e117b97",
   "metadata": {},
   "source": [
    "It looks like words that are most similar to \"bank\" are other financial terms! \n",
    "\n",
    "Recall that `word2vec` is trained to capture a word's meaning based on contextual information. These words are considered similar to \"bank\" because they appear in similar contexts. \n",
    "\n",
    "In addition to querying for the most similar words, we can also ask the model to return the cosine similarity between two words by calling the function `similarity`.\n",
    "\n",
    "Let's go ahead and check out the similarities between the following four pairs of words. In each pair, we have \"river\" and \"bank,\" but the form of \"bank\" varies. Let's see if word forms make a difference!"
   ]
  },
  {
   "cell_type": "code",
   "execution_count": 11,
   "id": "ee556605-b553-4ec3-b761-b83d737dce72",
   "metadata": {},
   "outputs": [
    {
     "data": {
      "text/plain": [
       "0.07048161"
      ]
     },
     "execution_count": 11,
     "metadata": {},
     "output_type": "execute_result"
    }
   ],
   "source": [
    "# bank with capitalized B\n",
    "wv.similarity('river', 'Bank')"
   ]
  },
  {
   "cell_type": "code",
   "execution_count": 12,
   "id": "efd07f40-81bf-4aa8-826d-a06f723deae5",
   "metadata": {},
   "outputs": [
    {
     "data": {
      "text/plain": [
       "0.10886547"
      ]
     },
     "execution_count": 12,
     "metadata": {},
     "output_type": "execute_result"
    }
   ],
   "source": [
    "# the present participle\n",
    "wv.similarity('river', 'banking')"
   ]
  },
  {
   "cell_type": "code",
   "execution_count": 13,
   "id": "e6df967c-8cc3-450a-b48e-1e0b76de2936",
   "metadata": {},
   "outputs": [
    {
     "data": {
      "text/plain": [
       "0.21523127"
      ]
     },
     "execution_count": 13,
     "metadata": {},
     "output_type": "execute_result"
    }
   ],
   "source": [
    "# the word stem\n",
    "wv.similarity('river', 'bank')"
   ]
  },
  {
   "cell_type": "code",
   "execution_count": 14,
   "id": "df97e2be-5998-466a-94e9-504281796768",
   "metadata": {},
   "outputs": [
    {
     "data": {
      "text/plain": [
       "0.21918102"
      ]
     },
     "execution_count": 14,
     "metadata": {},
     "output_type": "execute_result"
    }
   ],
   "source": [
    "# the plural form\n",
    "wv.similarity('river', 'banks')"
   ]
  },
  {
   "cell_type": "markdown",
   "id": "217561a7-8dfe-4537-839d-0fa6b9063d9e",
   "metadata": {},
   "source": [
    "🔔 **Question**: Why do \"banks\" and \"river\" have a higher similarity score than other pairs?"
   ]
  },
  {
   "cell_type": "markdown",
   "id": "f0ec2123-05ec-46f8-b042-e761e72f1992",
   "metadata": {},
   "source": [
    "## 🥊 Challenge 1: Dosen't Match\n",
    "\n",
    "Now it's your turn! In the following cell, we have prepared a list of coffee-noun pairs, i.e., the word \"coffee\" is paired with the name of a specific coffee drink. Let's find out which coffee drink is considered most similar to \"coffee\" and which one is not. \n",
    "\n",
    "Complete the for loop (two cells below) to calculate the cosine similarity between each pair of words by using the `similarity` function. "
   ]
  },
  {
   "cell_type": "code",
   "execution_count": 15,
   "id": "671bda3d-8c55-44a1-9e32-8f7a6ef2a666",
   "metadata": {},
   "outputs": [],
   "source": [
    "coffee_nouns = [\n",
    "    ('coffee', 'espresso'),\n",
    "    ('coffee', 'cappuccino'),\n",
    "    ('coffee', 'latte'),\n",
    "    ('coffee', 'americano'),\n",
    "    ('coffee', 'irish'),\n",
    "]"
   ]
  },
  {
   "cell_type": "code",
   "execution_count": null,
   "id": "54b8c2d3-9f54-4575-8bc6-01ed2f2d3e6a",
   "metadata": {},
   "outputs": [],
   "source": [
    "for w1, w2 in coffee_nouns:\n",
    "    similarity = # YOUR CODE HERE\n",
    "    print(f\"{w1}, {w2}, {similarity}\")"
   ]
  },
  {
   "cell_type": "markdown",
   "id": "f09e021f-b91a-4c41-ba71-97bba798bb4e",
   "metadata": {},
   "source": [
    "Next, let's focus on verbs commonly associated with coffee-making. Take a look at the use case for the [`doesnt_match`](https://radimrehurek.com/gensim/auto_examples/tutorials/run_word2vec.html#word2vec-demo) function and then use it to identify the verb that does not seem to belong.\n",
    "\n",
    "Feel free to add more verbs to the list!"
   ]
  },
  {
   "cell_type": "code",
   "execution_count": 16,
   "id": "38f86c65-c026-45f0-8e7c-8dbe088010b7",
   "metadata": {},
   "outputs": [],
   "source": [
    "coffee_verbs = ['brew', 'drip', 'pour', 'make', 'grind', 'roast']"
   ]
  },
  {
   "cell_type": "code",
   "execution_count": null,
   "id": "292d5328-8c99-4805-96ac-b845256ad66e",
   "metadata": {},
   "outputs": [],
   "source": [
    "verb_dosent_match = # YOUR CODE HERE\n",
    "verb_dosent_match"
   ]
  },
  {
   "cell_type": "markdown",
   "id": "7ad4e99f-6048-43a8-a698-ed7e5051a4dc",
   "metadata": {},
   "source": [
    "🔔 **Question**: What have you found? Share your answers in the chat! "
   ]
  },
  {
   "cell_type": "markdown",
   "id": "9a73249a-b6c6-4a41-82c3-4fbc0947c26f",
   "metadata": {},
   "source": [
    "<a id='section3'></a>\n",
    "\n",
    "# Word Analogy\n",
    "\n",
    "In addition to similarities between word pairs, one of the best known ways to use word vectors provided by `word2vec` is to solve word analogies. For example, consider the following analogy: \n",
    "\n",
    "`man : king :: woman : queen`\n",
    "\n",
    "Oftentimes, word analogy like this is visualized with parallelogram, such as shown in the following figure, which is adapted from [Ethayarajh et al. (2019)](https://arxiv.org/abs/1810.04882). \n",
    "\n",
    "<img src='../images/word_analogy.png' alt=\"Word analogy\" width=\"450\">\n",
    "\n",
    "The upper side (difference between `man` and `woman`) should approximate the lower side (difference between `king` and `queen`); the vector difference represents the meanig of `female`. \n",
    "\n",
    "- $\\mathbf{V}_{\\text{man}} - \\mathbf{V}_{\\text{woman}} \\approx \\mathbf{V}_{\\text{king}} - \\mathbf{V}_{\\text{queen}}$\n",
    "\n",
    "Similarly, the left side (difference between `king` and `man`) should approximate the right side (difference between `queen` and `woman`); the vector difference represents the meaning of `royal`.\n",
    "\n",
    "- $\\mathbf{V}_{\\text{king}} - \\mathbf{V}_{\\text{man}} \\approx \\mathbf{V}_{\\text{queen}} - \\mathbf{V}_{\\text{woman}}$\n",
    "\n",
    "We can take either equation and rearrange it:\n",
    "\n",
    "- $\\mathbf{V}_{\\text{king}} - \\mathbf{V}_{\\text{man}} + \\mathbf{V}_{\\text{woman}} \\approx \\mathbf{V}_{\\text{Queen}}$\n",
    "\n",
    "If the vectors of `king`, `man`, and `woman` are known, we can use simple vector arithmetic to obtain a vector that approximates the meaning of `queen`. This is the idea behind solving word analogies with word embeddings.\n",
    "\n",
    "Let's implement it!\n",
    "\n",
    "In the following operations, we use the function [`get_vector`](https://radimrehurek.com/gensim/models/keyedvectors.html#gensim.models.keyedvectors.KeyedVectors.get_vector) to obtain a vector for a word. The function works similarly to using a key to access its value in the `word2vec` dictionary, but it also allows us to specify whether we want to normalize the vector. \n",
    "\n",
    "We want to set `norm` to `True` and renormalize the difference vector later. This is because different vectors have different lengths; normalization puts everything on a common scale."
   ]
  },
  {
   "cell_type": "code",
   "execution_count": 17,
   "id": "362bba64-01b0-4c1c-8e19-43365dd0834d",
   "metadata": {},
   "outputs": [],
   "source": [
    "# Calculate the vector difference for \"royal\"\n",
    "difference = wv.get_vector('king', norm=True) - wv.get_vector('man', norm=True) \n",
    "\n",
    "# Add the vector for \"woman\"\n",
    "difference += wv.get_vector('woman', norm=True)\n",
    "\n",
    "# Renormalize \n",
    "difference = difference / np.linalg.norm(difference)"
   ]
  },
  {
   "cell_type": "code",
   "execution_count": 18,
   "id": "11d25a4d-5012-4035-8833-ce7f15afbed9",
   "metadata": {},
   "outputs": [
    {
     "data": {
      "text/plain": [
       "[('king', 0.7992597818374634),\n",
       " ('queen', 0.7118192911148071),\n",
       " ('monarch', 0.6189674735069275),\n",
       " ('princess', 0.5902430415153503),\n",
       " ('crown_prince', 0.5499460697174072),\n",
       " ('prince', 0.5377321243286133),\n",
       " ('kings', 0.5236843824386597),\n",
       " ('Queen_Consort', 0.5235945582389832),\n",
       " ('queens', 0.5181134343147278),\n",
       " ('sultan', 0.5098593235015869)]"
      ]
     },
     "execution_count": 18,
     "metadata": {},
     "output_type": "execute_result"
    }
   ],
   "source": [
    "# What is the most similar vector?\n",
    "wv.most_similar(difference)"
   ]
  },
  {
   "cell_type": "markdown",
   "id": "680c755c-f22c-4e77-b8c2-c65a2f5a95a6",
   "metadata": {},
   "source": [
    "🔔 **Question**: The word \"queen\" is the second most similar one—not bad! Wait, why does \"king\" have the highest similarity score?\n",
    "\n",
    "Carrying out these operations can be done in one swoop with the `most_similar` function. \n",
    "\n",
    "We need to specify two arguments, `positive` and `negative`. The argument `positive` holds the words that we want the output to be similar to, and `negative` the words we'd like the output to be dissimilar to."
   ]
  },
  {
   "cell_type": "code",
   "execution_count": 19,
   "id": "8ce536bb-fdd7-4afb-98be-3b30f92770e3",
   "metadata": {},
   "outputs": [
    {
     "data": {
      "text/plain": [
       "[('queen', 0.7118192911148071),\n",
       " ('monarch', 0.6189674735069275),\n",
       " ('princess', 0.5902431011199951),\n",
       " ('crown_prince', 0.5499460697174072),\n",
       " ('prince', 0.5377321243286133),\n",
       " ('kings', 0.5236844420433044),\n",
       " ('Queen_Consort', 0.5235945582389832),\n",
       " ('queens', 0.5181134343147278),\n",
       " ('sultan', 0.5098593235015869),\n",
       " ('monarchy', 0.5087411403656006)]"
      ]
     },
     "execution_count": 19,
     "metadata": {},
     "output_type": "execute_result"
    }
   ],
   "source": [
    "# Words that are similar to woman and king but dissimilar to man\n",
    "wv.most_similar(positive=['woman', 'king'], negative='man')"
   ]
  },
  {
   "cell_type": "markdown",
   "id": "421f5786-0b88-41f4-95b3-353311a7c8bf",
   "metadata": {},
   "source": [
    "You may have noticed that the word \"king\" is no longer in the result. That's because the `most_similar` function, by default, skips the input words when returning the result. This makes sense—the word itself would have the highest cosine similarity, but it is not an informative answer to our query. "
   ]
  },
  {
   "cell_type": "markdown",
   "id": "b91687e2-62dc-4c20-adf7-75f2504df0ce",
   "metadata": {},
   "source": [
    "## 🥊 Challenge 2: Woman is to Homemaker?\n",
    "\n",
    "[Bolukbasi et al. (2016)](https://arxiv.org/abs/1607.06520) is a thought-provoking investigation of gender bias in word embeddings, and they primarily focus on word analogies, especially those that reveal gender stereotyping. Let run a couple examples discussed in the paper, using the `most_similiar` function we've just learned. \n",
    "\n",
    "The following cell contains a few examples we can pass to the `positive` and `negative` arguments. For example, we want the output to be similar to \"woman\" and \"chairman\" but dissimilar to \"man.\" We'll print the top result by indexing the 0th item. \n",
    "\n",
    "Let's complete the following for loop."
   ]
  },
  {
   "cell_type": "code",
   "execution_count": 20,
   "id": "1653f664-5ab4-4f6e-b3fb-19c542674881",
   "metadata": {},
   "outputs": [],
   "source": [
    "positive_pair = [['woman', 'chairman'],\n",
    "                 ['woman', 'doctor'], \n",
    "                 ['woman', 'computer_programmer']]\n",
    "negative_word = 'man'"
   ]
  },
  {
   "cell_type": "code",
   "execution_count": null,
   "id": "8794ac92-158e-4360-bd86-96132a8f4f6e",
   "metadata": {},
   "outputs": [],
   "source": [
    "for example in positive_pair:\n",
    "    result = # YOUR CODE HERE\n",
    "    print(f\"man is to {example[1]} as woman to {result[0][0]}\")"
   ]
  },
  {
   "cell_type": "markdown",
   "id": "eeb6a4d3-ca70-4820-a570-198816a13f7f",
   "metadata": {},
   "source": [
    "🔔 **Question**: What do you find most surprising or unsurprising about these results?"
   ]
  },
  {
   "cell_type": "markdown",
   "id": "b85148bd-8d5c-4898-aceb-3185d132dcca",
   "metadata": {},
   "source": [
    "<a id='section4'></a>\n",
    "\n",
    "# Bias in Word Embeddings\n",
    "\n",
    "### `GloVe` \n",
    "\n",
    "Any forms of stereotyping is disturbing. Now that we've known gender bias is indeed present in the pretrained embeddings, let's take a more in-depth look at it.\n",
    "\n",
    "We will switch gears to a smaller word embedding model—pretrained `GloVe`. Let's load it with the `api.load()` function. \n",
    "\n",
    "The `GloVe` mode is trained from Wikipedia and Gigaword (news data). Check out the [documentation](https://nlp.stanford.edu/projects/glove/) for more detailed model descriptions."
   ]
  },
  {
   "cell_type": "code",
   "execution_count": 21,
   "id": "4676dca5-0be0-43dd-91ec-4ffe03928743",
   "metadata": {},
   "outputs": [],
   "source": [
    "glove = api.load('glove-wiki-gigaword-50')"
   ]
  },
  {
   "cell_type": "markdown",
   "id": "0e298be4-6521-4af7-82eb-e3a607ea5938",
   "metadata": {},
   "source": [
    "Let's double check the dimension of the vector, using the \"banana\" example again. "
   ]
  },
  {
   "cell_type": "code",
   "execution_count": 21,
   "id": "881a897d-1215-4e58-847e-6c6245ad6aba",
   "metadata": {},
   "outputs": [
    {
     "data": {
      "text/plain": [
       "50"
      ]
     },
     "execution_count": 21,
     "metadata": {},
     "output_type": "execute_result"
    }
   ],
   "source": [
    "glove['banana'].size"
   ]
  },
  {
   "cell_type": "markdown",
   "id": "56330365-6bcd-4fd5-b28a-0eb34ee66634",
   "metadata": {},
   "source": [
    "### Semantic Axis\n",
    "\n",
    "To investigate gender bias in word embeddings, we first need a vector that captures the concept of gender. The idea is to construct **a semantic axis** for this concept. \n",
    "\n",
    "The rationale for using a semantic axis is that a concept is often complex and cannot be sufficiently denoted by a single word. It is also fluid, meaning that its meaning is not definite but can span form one end of an axis to the other. Once we have the vector representation of a concept, we can project a list of terms onto that axis to see if a term is more aligned towards one end or the other. \n",
    "\n",
    "We follow [An et al. 2018](https://aclanthology.org/P18-1228/) to construct a semantic axis. In preparation, we first need to come up with two sets of pole words that have opposite meanings.\n",
    "\n",
    "- $\\mathbf{W}_{\\text{plus}} = \\{w_{1}^{+}, w_{2}^{+}, w_{3}^{+}, ..., w_{i}^{+}\\}$\n",
    "\n",
    "- $\\mathbf{W}_{\\text{minus}} = \\{w_{1}^{-}, w_{2}^{-}, w_{3}^{-}, ..., w_{j}^{-}\\}$\n",
    "\n",
    "We then take the mean of each vector set to represent the core meaning of that set. \n",
    "\n",
    "- $\\mathbf{V}_{\\text{plus}} = \\frac{1}{i}\\sum_{1}^{i}w_{i}^{+}$\n",
    "\n",
    "- $\\mathbf{V}_{\\text{minus}} = \\frac{1}{j}\\sum_{1}^{j}w_{j}^{-}$\n",
    "\n",
    "Next, we take the difference between the two means to represent the semantic axis of the intended concept. \n",
    "\n",
    "- $\\mathbf{V}_{\\text{axis}} = \\mathbf{V}_{\\text{plus}} - \\mathbf{V}_{\\text{minus}}$\n",
    "\n",
    "Projecting a specific term to the semantic axis is, as we've learned above, operationalized as taking the cosine similarity between the word's vector and the semantic axis vector. A positive value would indicate that the term is closer to the $\\mathbf{V}_{\\text{plus}}$ end. A negative value means proximity to the $\\mathbf{V}_{\\text{minus}}$ end. \n",
    "\n",
    "- $score(w) = cos(v_{w},  \\mathbf{V}_{\\text{axis}})$\n",
    "\n",
    "With this tool, we can go ahead and construct a vector for the concept \"gender\"; however, this method is still limited, as gender identity in the real world cannot just be reduced to two polarities. As we proceed, we will discover how much stereotypying is encoded in gender terms.\n",
    "\n",
    "## 🥊 Challenge 3: Construct a Semantic Axis\n",
    "\n",
    "The following cell defines a set of \"female\" terms and a set of \"male\" terms; these example words are from [Bolukbasi et al., 2016](https://arxiv.org/abs/1607.06520). \n",
    "\n",
    "To complete the function `get_semaxis`, you will need to:\n",
    "\n",
    "- Get the word embeddings for terms in each list and save the embeddings to the corresponding lists `v_plus` and `v_minus`. You can use the `model` argument as a dictionary to retrieve word embeddings. \n",
    "- Calculate the mean embedding for each list and save the means to the corresponding variables `v_plus_mean` and `v_minus _mean`.\n",
    "- Get the difference between the two means and return the difference vector (i.e., the vector for the semantic axis) \n",
    "\n",
    "We have provided some starter code for you (two cells below). If everything runs correctly, the embedding size of the semantic axis should be the same as the size of the input vector. "
   ]
  },
  {
   "cell_type": "code",
   "execution_count": 22,
   "id": "094d3a8e-f605-4954-a6af-dc4d16d58b51",
   "metadata": {},
   "outputs": [],
   "source": [
    "# Define two sets of pole words (examples from Bolukbasi et al., 2016)\n",
    "female = ['she', 'woman', 'female', 'daughter', 'mother', 'girl']\n",
    "male = ['he', 'man', 'male', 'son', 'father', 'boy']"
   ]
  },
  {
   "cell_type": "code",
   "execution_count": null,
   "id": "c4e4d99b-0da1-4177-aa47-0db2e7a53a7a",
   "metadata": {},
   "outputs": [],
   "source": [
    "def get_semaxis(list1, list2, model, embedding_size):\n",
    "    '''Calculate the embedding of a semantic axis given two lists of pole words.'''\n",
    "\n",
    "    # Step 1: Get the embeddings for terms in each list\n",
    "    # v_plus = ...\n",
    "    # v_minus = ...\n",
    "\n",
    "    # Step 2: Calculate the mean embedding for each list\n",
    "    # v_plus_mean = ...\n",
    "    # v_minus_mean = ...\n",
    "\n",
    "    # Step 3: Get the difference between two means\n",
    "    # sem_axis = ...\n",
    "\n",
    "    # Sanity check\n",
    "    assert sem_axis.size == embedding_size\n",
    "    \n",
    "    return sem_axis"
   ]
  },
  {
   "cell_type": "code",
   "execution_count": 24,
   "id": "88257610-b8e7-4429-8d1f-dabe3de70891",
   "metadata": {},
   "outputs": [
    {
     "data": {
      "text/plain": [
       "array([ 0.08418201,  0.30625182, -0.23662159,  0.02026337, -0.00296998,\n",
       "        0.6195349 ,  0.01208681,  0.06963003,  0.49099812, -0.20878893,\n",
       "        0.00934163, -0.44707334,  0.48806185,  0.19471335,  0.20141667,\n",
       "        0.0832995 , -0.4245833 , -0.08612835,  0.47612852, -0.05129966,\n",
       "        0.31475997,  0.49075842,  0.12465019,  0.26685053,  0.29776838,\n",
       "        0.14211655, -0.09953564,  0.2320785 , -0.01026282, -0.30585438,\n",
       "       -0.1335001 ,  0.21605133,  0.10961549, -0.03373036, -0.13584831,\n",
       "       -0.12131716, -0.14671612, -0.04348468,  0.06151834, -0.3654362 ,\n",
       "       -0.06193466, -0.17093089,  0.5058871 , -0.44872418,  0.05962732,\n",
       "       -0.18274659,  0.24432765, -0.3396697 ,  0.00442566,  0.10554916],\n",
       "      dtype=float32)"
      ]
     },
     "execution_count": 24,
     "metadata": {},
     "output_type": "execute_result"
    }
   ],
   "source": [
    "# Plug in the gender lists to calculate the semantic axis for gender\n",
    "gender_axis = get_semaxis(list1=female, \n",
    "                          list2=male, \n",
    "                          model=glove, \n",
    "                          embedding_size=50)\n",
    "gender_axis"
   ]
  },
  {
   "cell_type": "markdown",
   "id": "748fa605-d07f-45ca-b786-795d034c6a61",
   "metadata": {},
   "source": [
    "The vector for \"gender\" has now been created. The next step is to project a list of terms onto the gender axis. We can continue with the occupation terms we've tested previously in Challenge 2. "
   ]
  },
  {
   "cell_type": "code",
   "execution_count": 25,
   "id": "dbd47f71-7691-412d-be2e-046b0f13c800",
   "metadata": {},
   "outputs": [],
   "source": [
    "# Define a list of occupations terms; examples are taken from Bolukbaski et al.\n",
    "occupations = ['engineer',\n",
    "               'nurse',\n",
    "               'designer',\n",
    "               'receptionist',\n",
    "               'banker',\n",
    "               'librarian',\n",
    "               'architect',\n",
    "               'hairdresser',\n",
    "               'philosopher']"
   ]
  },
  {
   "cell_type": "markdown",
   "id": "1f91f7a7-3f21-47f2-a8e1-233603704b0c",
   "metadata": {},
   "source": [
    "Before calculating the cosine similarity, let's first rate the following occupation terms using your intuition. Ratings should be between $[-1, 1]$. A negative value means the term is closer to the male end; a positive value means it is closer to the female end."
   ]
  },
  {
   "cell_type": "code",
   "execution_count": null,
   "id": "baab8481-40a5-4e7a-8ff1-4c0b086b5e7f",
   "metadata": {},
   "outputs": [],
   "source": [
    "# Uncomment to rate the following occupation terms\n",
    "# occ_rating = {'engineer': ...,\n",
    "#               'nurse': ...,\n",
    "#               'designer': ...,\n",
    "#               'receptionist': ...,\n",
    "#               'banker': ...,\n",
    "#               'librarian': ...,\n",
    "#               'architect': ...,\n",
    "#               'hairdresser': ...,\n",
    "#               'philosopher': ...\n",
    "#              }"
   ]
  },
  {
   "cell_type": "code",
   "execution_count": 26,
   "id": "6b9fed84-60fd-4d4b-9a07-658484c30aec",
   "metadata": {},
   "outputs": [],
   "source": [
    "# Calculate cosine similarity between a given word and the axis\n",
    "def get_projection(word, model, axis):\n",
    "    '''Get the projection of a word onto a semantic axis'''\n",
    "    \n",
    "    word_norm = model[word] / np.linalg.norm(model[word])\n",
    "    axis_norm = axis / np.linalg.norm(axis)\n",
    "    projection = np.dot(word_norm, axis_norm) \n",
    "    \n",
    "    return projection"
   ]
  },
  {
   "cell_type": "code",
   "execution_count": 27,
   "id": "77e537b5-165a-41be-8705-2f3d0092e1ac",
   "metadata": {},
   "outputs": [
    {
     "data": {
      "text/plain": [
       "{'engineer': -0.17089118,\n",
       " 'nurse': 0.3756587,\n",
       " 'designer': 0.116768315,\n",
       " 'receptionist': 0.34369344,\n",
       " 'banker': -0.12623654,\n",
       " 'librarian': 0.13333757,\n",
       " 'architect': -0.27095127,\n",
       " 'hairdresser': 0.2927159,\n",
       " 'philosopher': -0.21503611}"
      ]
     },
     "execution_count": 27,
     "metadata": {},
     "output_type": "execute_result"
    }
   ],
   "source": [
    "occ_projections = {word: get_projection(word, glove, gender_axis) for word in occupations}\n",
    "occ_projections "
   ]
  },
  {
   "cell_type": "markdown",
   "id": "4c967ce2-1eac-483b-b46e-056bb0b8a8a9",
   "metadata": {},
   "source": [
    "## Visualize the Projection\n",
    "\n",
    "Now that we have calculated the projection of each occupation term onto the gender axis, let's plot these values to gain a more straightforward understanding of how much gender stereotyping is hidden in these terms.\n",
    "\n",
    "We will use a bar plot to visualize the results, using a gradient color palette. The bar's color approximates the proximity of a term to an end."
   ]
  },
  {
   "cell_type": "code",
   "execution_count": 28,
   "id": "0394ceb7-b50f-4d70-9443-0e255b4c4074",
   "metadata": {},
   "outputs": [],
   "source": [
    "from matplotlib.colors import Normalize\n",
    "\n",
    "def plot_semantic_axis(projections, title, xlab):\n",
    "    '''Return a horizontal bar plot of the projections.'''\n",
    "\n",
    "    # Sort the projections in descending order\n",
    "    projection_sorted = sorted(projections.items(), key=lambda term: term[1], reverse=True)\n",
    "\n",
    "    # Extract the terms\n",
    "    terms = [term_value[0] for term_value in projection_sorted]\n",
    "\n",
    "    # Extract corresponding values of projections\n",
    "    values = [term_value[1] for term_value in projection_sorted]\n",
    "\n",
    "    # Take the absolute values for gradient color fill\n",
    "    values_abs = np.abs(values)\n",
    "    norm = Normalize(vmin=min(values_abs), vmax=max(values_abs))\n",
    "    cmap = plt.get_cmap(\"YlOrBr\")  \n",
    "    colors = [cmap(norm(value)) for value in values_abs]\n",
    "\n",
    "    plt.figure(figsize=(8, 6))  \n",
    "    plt.barh(terms, values, color=colors)\n",
    "    plt.grid(axis=\"x\", linestyle=\":\", alpha=0.5)\n",
    "    plt.xlim(-np.max(values_abs+0.05), np.max(values_abs+0.05))\n",
    "    plt.xlabel(xlab)\n",
    "    plt.title(title)\n",
    "    plt.show();"
   ]
  },
  {
   "cell_type": "markdown",
   "id": "56fd4b50-e565-4e50-b063-7b88fba858e0",
   "metadata": {},
   "source": [
    "We will visualize the projections first, but feel free to use the above function to visualize your own ratings. \n",
    "\n",
    "🔔 **Question**: Do you find the results surprising or expected? Let's pause for a minute to discuss why steorotyping exists in word embeddings."
   ]
  },
  {
   "cell_type": "code",
   "execution_count": 29,
   "id": "e1286e06-9cf5-4bed-a755-987fbd53c239",
   "metadata": {
    "scrolled": true
   },
   "outputs": [
    {
     "data": {
      "image/png": "[encoded data removed]",
      "text/plain": [
       "<Figure size 800x600 with 1 Axes>"
      ]
     },
     "metadata": {},
     "output_type": "display_data"
    }
   ],
   "source": [
    "title1 = 'Projections onto the gender axis'\n",
    "xlab = 'Gender-stereotypical occpuation terms'\n",
    "plot_semantic_axis(occ_projections, title1, xlab)"
   ]
  },
  {
   "cell_type": "code",
   "execution_count": null,
   "id": "b681d1ae-0ec4-4b38-8acc-30dc6903fe1e",
   "metadata": {},
   "outputs": [],
   "source": [
    "# Uncomment if you have specified self-rated occupation terms\n",
    "\n",
    "# title2 = 'Self-rated projections onto the gender axis'\n",
    "# plot_semantic_axis(occ_rating, title2, xlab)"
   ]
  },
  {
   "cell_type": "markdown",
   "id": "1490b4ca-41a9-4a0e-99d1-fb247f3927ff",
   "metadata": {},
   "source": [
    "## 🎬 **Demo**: Projections onto Two Axes\n",
    "\n",
    "We can also project terms onto **two axes** and plot the results on **a scatter plot**, where the coordinates correspond to projections onto the two axes.\n",
    "\n",
    "Social class is another dimension commonly investigated in the literature. In this demo, we'll create a semantic axis for affluence, one dimension of social class, using two sets of pole words representing two ends of the concept, as described in [Kozlowski et al. 2019](https://journals.sagepub.com/doi/full/10.1177/0003122419877135).\n",
    "\n",
    "In the first example, we'll project a list of **sports terms** onto both the gender and affluence axes. We'll visualize the results on a scatter plot, with the x-axis representing gender and the y-axis representing affluence. The coordinates of each term on this plot correspond to its projections onto these axes.\n",
    "\n",
    "Next, we'll repeat the process to visualize occupation terms to obtain a concrete idea of how much each term is biased towards either end of these two dimensions.\n",
    "\n",
    "Let's dive in!"
   ]
  },
  {
   "cell_type": "code",
   "execution_count": null,
   "id": "c3597678-99ef-45b3-a78b-26b529db0acb",
   "metadata": {},
   "outputs": [],
   "source": [
    "# Define two sets of pole words for affluence; examples taken from Kozlowski et. al\n",
    "poor = ['poor', 'poorer', 'poorest', 'poverty', 'inexpensive', 'impoverished', 'cheap']\n",
    "rich = ['rich', 'richer', 'richest', 'affluence', 'expensive', 'wealthy', 'luxury']\n",
    "\n",
    "affluence_axis = get_semaxis(list1=poor, \n",
    "                             list2=rich, \n",
    "                             model=glove,\n",
    "                             embedding_size=50)"
   ]
  },
  {
   "cell_type": "markdown",
   "id": "e2a1ad74-c6a4-46ac-a7ce-78090d283f76",
   "metadata": {},
   "source": [
    "We will project sports terms onto the social class axis to see if some sports are more associated with the \"high\" society and others \"low\" soceity. "
   ]
  },
  {
   "cell_type": "code",
   "execution_count": 32,
   "id": "e2b5d449-cca7-435a-9a33-65a622dcb340",
   "metadata": {},
   "outputs": [],
   "source": [
    "# Define a list of sports terms; examples taken from Kozlowski et. al, 2019\n",
    "sports = ['camping', \n",
    "          'boxing', \n",
    "          'bowling', \n",
    "          'baseball', \n",
    "          'soccer', \n",
    "          'tennis', \n",
    "          'golf', \n",
    "          'basketball', \n",
    "          'skiing', \n",
    "          'sailing', \n",
    "          'volleyball']"
   ]
  },
  {
   "cell_type": "markdown",
   "id": "c56c3592-9760-4eb6-acda-bdc931c6284f",
   "metadata": {},
   "source": [
    "Next, let's use the `get_projection` function to calculate the cosine similarity between each sport term and each semantic axis. "
   ]
  },
  {
   "cell_type": "code",
   "execution_count": 33,
   "id": "0e125157-e645-477a-8c8d-52932a68dba4",
   "metadata": {},
   "outputs": [],
   "source": [
    "proj_spt_affluence = {word: get_projection(word, glove, affluence_axis) for word in sports}\n",
    "proj_spt_gender = {word: get_projection(word, glove, gender_axis) for word in sports}"
   ]
  },
  {
   "cell_type": "markdown",
   "id": "7a1ec3d1-609a-4d2f-b9b3-25131a536e89",
   "metadata": {},
   "source": [
    "Finally, let's visualize the results using a scatter plot."
   ]
  },
  {
   "cell_type": "code",
   "execution_count": 34,
   "id": "56a538e1-809f-49e5-94d3-c46888761229",
   "metadata": {},
   "outputs": [
    {
     "data": {
      "image/png": "[encoded data removed]",
      "text/plain": [
       "<Figure size 900x700 with 1 Axes>"
      ]
     },
     "metadata": {},
     "output_type": "display_data"
    }
   ],
   "source": [
    "plt.figure(figsize=(9, 7))\n",
    "\n",
    "# Use scatter plot to visualize the results\n",
    "plt.scatter(list(proj_spt_gender.values()), \n",
    "            list(proj_spt_affluence.values()), \n",
    "            color='cornflowerblue',\n",
    "            s=75)\n",
    "\n",
    "# Add text label to each dot\n",
    "for term in sports:\n",
    "    plt.annotate(term, \n",
    "                (proj_spt_gender[term], proj_spt_affluence[term]), \n",
    "                 fontsize=10)\n",
    "\n",
    "# Add more annotations to four corners of the plot\n",
    "plt.annotate('Male/Rich', (-0.48, -0.28), color='gray', horizontalalignment='left')\n",
    "plt.annotate('Female/Rich', (0.48, -0.28), color='gray', horizontalalignment='right')\n",
    "plt.annotate('Male/Poor', (-0.48, 0.27), color='gray', horizontalalignment='left')\n",
    "plt.annotate('Female/Poor', (0.48, 0.27), color='gray', horizontalalignment='right')\n",
    "\n",
    "# Add reference lines to each semantic axis\n",
    "plt.hlines(xmin=-1, xmax=1, y=0, color='lightcoral', linewidth=1, linestyle=':')\n",
    "plt.vlines(ymin=-1, ymax=1, x=0, color='lightcoral', linewidth=1, linestyle=':')\n",
    "\n",
    "# Other parameter settings\n",
    "plt.xlim(-0.5, 0.5)\n",
    "plt.ylim(-0.3, 0.3)\n",
    "plt.grid(True, linestyle=':')\n",
    "plt.xlabel('Projection onto Gender')\n",
    "plt.ylabel('Projection onto Affluence')\n",
    "plt.show();"
   ]
  },
  {
   "cell_type": "markdown",
   "id": "99b30b78-dd17-4bd5-9028-29e3f37cb963",
   "metadata": {},
   "source": [
    "🔔 **Question**: Let's take a minute to unpack the plot and discuss the following questions:\n",
    "- Which sport term appears most biased towards the male end, and which towards the female end?\n",
    "- Which sport appears to be gender-neutral?\n",
    "- Which sport term appears most biased towards the affluent end, and which one towards the other end?\n",
    "- Which sport seems neutral with respect to affluence?\n",
    "\n",
    "We have analyzed the gender bias in the occupation terms. To probe them further, let's take their projections onto the affluence axis into account."
   ]
  },
  {
   "cell_type": "code",
   "execution_count": null,
   "id": "caaee050-9932-4aeb-a4db-87d46aeccac8",
   "metadata": {
    "scrolled": true
   },
   "outputs": [],
   "source": [
    "proj_occ_gender = {word: get_projection(word, glove, gender_axis) for word in occupations}\n",
    "proj_occ_affluence = {word: get_projection(word, glove, affluence_axis) for word in occupations}"
   ]
  },
  {
   "cell_type": "code",
   "execution_count": 37,
   "id": "66140280-3d5d-4aa9-9b76-781399f2c9be",
   "metadata": {},
   "outputs": [
    {
     "data": {
      "image/png": "[encoded data removed]",
      "text/plain": [
       "<Figure size 900x700 with 1 Axes>"
      ]
     },
     "metadata": {},
     "output_type": "display_data"
    }
   ],
   "source": [
    "plt.figure(figsize=(9, 7))\n",
    "\n",
    "# Use scatter plot to visualize the results\n",
    "plt.scatter(list(proj_occ_gender.values()), \n",
    "            list(proj_occ_affluence.values()), \n",
    "            color='tan', \n",
    "            s=75)\n",
    "\n",
    "# Add text label to each dot\n",
    "for term in occupations:\n",
    "    plt.annotate(term, \n",
    "                (proj_occ_gender[term], proj_occ_affluence[term]), \n",
    "                fontsize=10)\n",
    "\n",
    "# Add more annotations to four corners of the plot\n",
    "plt.annotate('Male/Rich', (-0.48, -0.48), color='gray', horizontalalignment='left')\n",
    "plt.annotate('Female/Rich', (0.48, -0.48), color='gray', horizontalalignment='right')\n",
    "plt.annotate('Male/Poor', (-0.48, 0.45), color='gray', horizontalalignment='left')\n",
    "plt.annotate('Female/Poor', (0.48, 0.45), color='gray', horizontalalignment='right')\n",
    "\n",
    "# Add reference lines to each semantic axis\n",
    "plt.hlines(xmin=-1, xmax=1, y=0, color='lightcoral', linewidth=1, linestyle=':')\n",
    "plt.vlines(ymin=-1, ymax=1, x=0, color='lightcoral', linewidth=1, linestyle=':')\n",
    "\n",
    "# Other parameter settings\n",
    "plt.xlim(-0.5, 0.5)\n",
    "plt.ylim(-0.5, 0.5)\n",
    "plt.grid(True, linestyle=':')\n",
    "plt.xlabel('Projection onto Gender')\n",
    "plt.ylabel('Projection onto Affluence')\n",
    "plt.show();"
   ]
  },
  {
   "cell_type": "markdown",
   "id": "9f93b7bf-f88e-460d-bcf7-f760597da95c",
   "metadata": {},
   "source": [
    "🔔 **Question**: The affluence axis provides a new perspective. Again, let's pause and discuss the following questions.\n",
    "\n",
    "- Which occupation term immediately caught your eye, and why? \n",
    "- Which occuptation appears most biased towards the affluent end , and which one towards the other end?\n",
    "- Which occputation seems neutral with respect to affluence?"
   ]
  },
  {
   "cell_type": "markdown",
   "id": "40ec74c2-44d0-4061-888c-bb1d7e9e436a",
   "metadata": {},
   "source": [
    "We will wrap up this workshop with these two plots, and hopefully, they will leave you with some food for thought to further explore word embeddings. Constructing a semantic axis for a cultural dimension, such as gender or affluence, is widely researched. With this tool in hand, we can investigate concepts beyond culture. It could be a useful method for capturing the abstract meanings of various notions, such as an axis of coldness, an axis of kindness, and so on. \n",
    "\n",
    "Topics introduced in this workshop benefit greatly from research advances in the field of NLP. Check out the reference section if you would like to take a look at the papers that inspired the materials covered in this notebook!"
   ]
  },
  {
   "cell_type": "markdown",
   "id": "65af9f01-45e0-4aba-b443-dedb233a1ee6",
   "metadata": {},
   "source": [
    "# References\n",
    "\n",
    "1. [word2vec](https://arxiv.org/abs/1301.3781): Mikolov, T., Chen, K., Corrado, G., & Dean, J. (2013). Efficient estimation of word representations in vector space. arXiv:1301.3781.\n",
    "2. [GloVe](https://aclanthology.org/D14-1162/): Pennington, J., Socher, R., & Manning, C. D. (2014). GloVe: Global vectors for word representation. In *Proceedings of the 2014 Conference on Empirical Methods in Natural Language Processing*, 1532–1543.\n",
    "5. [Word analogies](https://arxiv.org/abs/1810.04882): Ethayarajh, K., Duvenaud, D., & Hirst, G. (2018). Towards understanding linear word analogies. In *Proceedings of the 57th Annual Meeting of the Association for Computational Linguistics*, 3253–3262.\n",
    "8. [Semantic axis](https://aclanthology.org/P18-1228/): An, J., Kwak, H. & Ahn, Y.-Y. (2018). Semaxis: A lightweight framework to characterize domain-specific word semantics beyond sentiment. In *Proceedings of the 56th Annual Meeting of the Association for Computational Linguistics 1*, 2450–2461.\n",
    "9. [Bias in word embeddings](https://arxiv.org/abs/1607.06520): Bolukbasi, T., Chang, K. W., Zou, J. Y., Saligrama, V., & Kalai, A. T. (2016). Man is to computer programmer as woman is to homemaker? Debiasing word embeddings. *Advances in Neural Information Processing Systems, 29,* 4349–4357.\n",
    "10. [Cultural dimensions and word embeddings](https://journals.sagepub.com/doi/10.1177/0003122419877135): Kozlowski, A. C., Taddy, M., & Evans, J. A. (2019). The geometry of culture: Analyzing the meanings of class through word embeddings. *American Sociological Review, 84*(5), 905-949."
   ]
  },
  {
   "cell_type": "markdown",
   "id": "2fc2acd5-fe77-4bee-916c-94d2443d3082",
   "metadata": {},
   "source": [
    "<div class=\"alert alert-success\">\n",
    "\n",
    "## ❗ Key Points\n",
    "\n",
    "* Pre-trained word embeddings like `word2vec` and `GloVe` take contextual information into representations of words' meanings. \n",
    "* Similarities between words is conveniently reflected in cosine similarity. \n",
    "* We can explore biases in word embeddings with the methods of semantic axis.\n",
    "\n",
    "</div>"
   ]
  }
 ],
 "metadata": {
  "kernelspec": {
   "display_name": "Python 3 (ipykernel)",
   "language": "python",
   "name": "python3"
  },
  "language_info": {
   "codemirror_mode": {
    "name": "ipython",
    "version": 3
   },
   "file_extension": ".py",
   "mimetype": "text/x-python",
   "name": "python",
   "nbconvert_exporter": "python",
   "pygments_lexer": "ipython3",
   "version": "3.11.4"
  }
 },
 "nbformat": 4,
 "nbformat_minor": 5
}
